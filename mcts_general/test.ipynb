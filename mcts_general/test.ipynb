{
 "cells": [
  {
   "cell_type": "code",
   "execution_count": 1,
   "metadata": {},
   "outputs": [],
   "source": [
    "import numpy as np\n",
    "from sklearn.datasets import fetch_california_housing\n",
    "from sklearn.model_selection import train_test_split\n",
    "from sklearn.preprocessing import MinMaxScaler\n",
    "\n",
    "# Load data\n",
    "housing = fetch_california_housing()\n",
    "X = housing.data\n",
    "y = housing.target\n",
    "\n",
    "X = MinMaxScaler().fit_transform(X)\n",
    "# Define the desired number of data points\n",
    "desired_num_samples = 400  # Adjust this as needed\n",
    "\n",
    "# Randomly sample data points\n",
    "# set the seed to ensure reproducibility\n",
    "np.random.seed(42)\n",
    "random_indices = np.random.choice(len(X), desired_num_samples, replace=False)\n",
    "X_subset = X[random_indices]\n",
    "y_subset = y[random_indices]\n",
    "# Split data\n",
    "X_train, X_test, Y_train, Y_test = train_test_split(X_subset, y_subset, test_size=0.5, random_state=42)"
   ]
  },
  {
   "cell_type": "code",
   "execution_count": 2,
   "metadata": {},
   "outputs": [
    {
     "name": "stdout",
     "output_type": "stream",
     "text": [
      "MCTS autoqfm\n"
     ]
    },
    {
     "data": {
      "text/plain": [
       "array([0, 0, 0, 0, 0, 0, 0, 0, 0, 0])"
      ]
     },
     "execution_count": 2,
     "metadata": {},
     "output_type": "execute_result"
    }
   ],
   "source": [
    "from autoqfm_env import KernelPropertiyEnv\n",
    "num_qubits = 8\n",
    "env = KernelPropertiyEnv(training_data=X_train, training_labels=Y_train, num_qubits=num_qubits, num_features=8)\n",
    "env.reset()"
   ]
  },
  {
   "cell_type": "code",
   "execution_count": 3,
   "metadata": {},
   "outputs": [],
   "source": [
    "from autoqfm_agent import MCTSAgent\n",
    "from autoqfm_config import MCTSAgentConfig\n",
    "from autoqfm_game import DiscreteGymGame"
   ]
  },
  {
   "cell_type": "code",
   "execution_count": 4,
   "metadata": {},
   "outputs": [
    {
     "name": "stdout",
     "output_type": "stream",
     "text": [
      "step in the AQGM envi with respective feature map: 1 Rz(x;=(x),{x})-\n",
      "kernel variance is very small, exponential concentration! Rz(x;=(x),{x})- 0.0\n",
      "step in the AQGM envi with respective feature map: 1 Rz(p,x;=y*(x),{y,x})-\n",
      "kernel variance is very small, exponential concentration! Rz(p,x;=y*(x),{y,x})- 0.0\n",
      "step in the AQGM envi with respective feature map: 1 Ry(x;=(x),{x})-\n",
      "step in the AQGM envi with respective feature map: 2 Ry(x;=(x),{x})-Ry(p,x;=y*(x),{y,x})-\n",
      "step in the AQGM envi with respective feature map: 3 Ry(x;=(x),{x})-Ry(p,x;=y*(x),{y,x})-Ry(x;=(x),{x})-\n",
      "step in the AQGM envi with respective feature map: 4 Ry(x;=(x),{x})-Ry(p,x;=y*(x),{y,x})-Ry(x;=(x),{x})-Ry(x;=(x),{x})-\n",
      "step in the AQGM envi with respective feature map: 5 Ry(x;=(x),{x})-Ry(p,x;=y*(x),{y,x})-Ry(x;=(x),{x})-Ry(x;=(x),{x})-Ry(x;=(x),{x})-\n",
      "better prediction error bound! Ry(x;=(x),{x})-Ry(p,x;=y*(x),{y,x})-Ry(x;=(x),{x})-Ry(x;=(x),{x})-Ry(x;=(x),{x})- 5365.68939353705 inf 5\n",
      "best overall prediction error and FM: 5365.68939353705 Ry(x;=(x),{x})-Ry(p,x;=y*(x),{y,x})-Ry(x;=(x),{x})-Ry(x;=(x),{x})-Ry(x;=(x),{x})-\n",
      "step in the AQGM envi with respective feature map: 6 Ry(x;=(x),{x})-Ry(p,x;=y*(x),{y,x})-Ry(x;=(x),{x})-Ry(x;=(x),{x})-Ry(x;=(x),{x})-Ry(x;=(x),{x})-\n",
      "better prediction error bound! Ry(x;=(x),{x})-Ry(p,x;=y*(x),{y,x})-Ry(x;=(x),{x})-Ry(x;=(x),{x})-Ry(x;=(x),{x})-Ry(x;=(x),{x})- 4232.204124893708 5365.68939353705 6\n",
      "best overall prediction error and FM: 4232.204124893708 Ry(x;=(x),{x})-Ry(p,x;=y*(x),{y,x})-Ry(x;=(x),{x})-Ry(x;=(x),{x})-Ry(x;=(x),{x})-Ry(x;=(x),{x})-\n",
      "step in the AQGM envi with respective feature map: 7 Ry(x;=(x),{x})-Ry(p,x;=y*(x),{y,x})-Ry(x;=(x),{x})-Ry(x;=(x),{x})-Ry(x;=(x),{x})-Ry(x;=(x),{x})-Ry(x;=(x),{x})-\n",
      "better prediction error bound! Ry(x;=(x),{x})-Ry(p,x;=y*(x),{y,x})-Ry(x;=(x),{x})-Ry(x;=(x),{x})-Ry(x;=(x),{x})-Ry(x;=(x),{x})-Ry(x;=(x),{x})- 3123.410262662066 4232.204124893708 7\n",
      "best overall prediction error and FM: 3123.410262662066 Ry(x;=(x),{x})-Ry(p,x;=y*(x),{y,x})-Ry(x;=(x),{x})-Ry(x;=(x),{x})-Ry(x;=(x),{x})-Ry(x;=(x),{x})-Ry(x;=(x),{x})-\n",
      "step in the AQGM envi with respective feature map: 8 Ry(x;=(x),{x})-Ry(p,x;=y*(x),{y,x})-Ry(x;=(x),{x})-Ry(x;=(x),{x})-Ry(x;=(x),{x})-Ry(x;=(x),{x})-Ry(x;=(x),{x})-Ry(x;=(x),{x})-\n",
      "better prediction error bound! Ry(x;=(x),{x})-Ry(p,x;=y*(x),{y,x})-Ry(x;=(x),{x})-Ry(x;=(x),{x})-Ry(x;=(x),{x})-Ry(x;=(x),{x})-Ry(x;=(x),{x})-Ry(x;=(x),{x})- 2117.5195184116737 3123.410262662066 8\n",
      "best overall prediction error and FM: 2117.5195184116737 Ry(x;=(x),{x})-Ry(p,x;=y*(x),{y,x})-Ry(x;=(x),{x})-Ry(x;=(x),{x})-Ry(x;=(x),{x})-Ry(x;=(x),{x})-Ry(x;=(x),{x})-Ry(x;=(x),{x})-\n",
      "visit counts:  [0 0 0 8 1 0 0 1 0 0 0 0 0 0 0]\n",
      "action selected:  3\n",
      "step in the AQGM envi with respective feature map: 1 Ry(x;=(x),{x})-\n",
      "game.env.best_pred_error:  inf\n",
      "Best overall PE:  inf\n",
      "Action:  3 Reward:  -1.0 Done:  False\n",
      "step in the AQGM envi with respective feature map: 2 Ry(x;=(x),{x})-Ry(x;=(x),{x})-\n",
      "step in the AQGM envi with respective feature map: 3 Ry(x;=(x),{x})-Ry(x;=(x),{x})-Ry(p,x;=y*(x),{y,x})-\n",
      "step in the AQGM envi with respective feature map: 4 Ry(x;=(x),{x})-Ry(x;=(x),{x})-Ry(p,x;=y*(x),{y,x})-Ry(x;=(x),{x})-\n",
      "step in the AQGM envi with respective feature map: 5 Ry(x;=(x),{x})-Ry(x;=(x),{x})-Ry(p,x;=y*(x),{y,x})-Ry(x;=(x),{x})-Ry(x;=(x),{x})-\n",
      "better prediction error bound! Ry(x;=(x),{x})-Ry(x;=(x),{x})-Ry(p,x;=y*(x),{y,x})-Ry(x;=(x),{x})-Ry(x;=(x),{x})- 5365.689393483236 inf 5\n",
      "best overall prediction error and FM: 5365.689393483236 Ry(x;=(x),{x})-Ry(x;=(x),{x})-Ry(p,x;=y*(x),{y,x})-Ry(x;=(x),{x})-Ry(x;=(x),{x})-\n",
      "step in the AQGM envi with respective feature map: 6 Ry(x;=(x),{x})-Ry(x;=(x),{x})-Ry(p,x;=y*(x),{y,x})-Ry(x;=(x),{x})-Ry(x;=(x),{x})-Ry(x;=(x),{x})-\n",
      "better prediction error bound! Ry(x;=(x),{x})-Ry(x;=(x),{x})-Ry(p,x;=y*(x),{y,x})-Ry(x;=(x),{x})-Ry(x;=(x),{x})-Ry(x;=(x),{x})- 4232.204124890177 5365.689393483236 6\n",
      "best overall prediction error and FM: 4232.204124890177 Ry(x;=(x),{x})-Ry(x;=(x),{x})-Ry(p,x;=y*(x),{y,x})-Ry(x;=(x),{x})-Ry(x;=(x),{x})-Ry(x;=(x),{x})-\n",
      "step in the AQGM envi with respective feature map: 7 Ry(x;=(x),{x})-Ry(x;=(x),{x})-Ry(p,x;=y*(x),{y,x})-Ry(x;=(x),{x})-Ry(x;=(x),{x})-Ry(x;=(x),{x})-Ry(x;=(x),{x})-\n",
      "better prediction error bound! Ry(x;=(x),{x})-Ry(x;=(x),{x})-Ry(p,x;=y*(x),{y,x})-Ry(x;=(x),{x})-Ry(x;=(x),{x})-Ry(x;=(x),{x})-Ry(x;=(x),{x})- 3123.410262608482 4232.204124890177 7\n",
      "best overall prediction error and FM: 3123.410262608482 Ry(x;=(x),{x})-Ry(x;=(x),{x})-Ry(p,x;=y*(x),{y,x})-Ry(x;=(x),{x})-Ry(x;=(x),{x})-Ry(x;=(x),{x})-Ry(x;=(x),{x})-\n",
      "step in the AQGM envi with respective feature map: 8 Ry(x;=(x),{x})-Ry(x;=(x),{x})-Ry(p,x;=y*(x),{y,x})-Ry(x;=(x),{x})-Ry(x;=(x),{x})-Ry(x;=(x),{x})-Ry(x;=(x),{x})-Ry(x;=(x),{x})-\n"
     ]
    }
   ],
   "source": [
    "config = MCTSAgentConfig()\n",
    "agent = MCTSAgent(config=config)\n",
    "\n",
    "game = DiscreteGymGame(env=env)\n",
    "state = game.reset()\n",
    "\n",
    "done = False\n",
    "reward = 0\n",
    "# best_pe_storage = np.inf\n",
    "# best_overall_fm = ''\n",
    "# run a trajectory\n",
    "while not done:\n",
    "    action = agent.step(game, state, reward, done)\n",
    "    state, reward, done = game.step(action)\n",
    "    # print('game.env.best_pred_error: ', game.env.best_pred_error)\n",
    "    # if game.env.best_pred_error < best_pe_storage:\n",
    "    #     best_pe_storage = game.env.best_pred_error\n",
    "    #     best_overall_fm = game.env.best_fm\n",
    "    #     game.env.best_overall_pred_error = best_pe_storage\n",
    "    # print(\"Best overall PE: \", best_pe_storage)\n",
    "    print(\"Action: \", action, \"Reward: \", reward, \"Done: \", done)\n",
    "\n",
    "game.close()"
   ]
  },
  {
   "cell_type": "code",
   "execution_count": null,
   "metadata": {},
   "outputs": [],
   "source": []
  }
 ],
 "metadata": {
  "kernelspec": {
   "display_name": "venv",
   "language": "python",
   "name": "python3"
  },
  "language_info": {
   "codemirror_mode": {
    "name": "ipython",
    "version": 3
   },
   "file_extension": ".py",
   "mimetype": "text/x-python",
   "name": "python",
   "nbconvert_exporter": "python",
   "pygments_lexer": "ipython3",
   "version": "3.10.10"
  },
  "orig_nbformat": 4
 },
 "nbformat": 4,
 "nbformat_minor": 2
}
